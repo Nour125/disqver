{
 "cells": [
  {
   "cell_type": "code",
   "execution_count": 123,
   "metadata": {},
   "outputs": [],
   "source": [
    "\n",
    "import pandas as pd\n",
    "from qrpm.app.data_operations.log_overview import get_log_overview\n",
    "from qrpm.analysis.quantityState import (\n",
    "    determine_quantity_state_qel,\n",
    "    determine_quantity_state_cp,\n",
    ")\n",
    "from numpy import mean, absolute\n",
    "from qrpm.analysis.dataImport import load_qel_from_file\n",
    "import math"
   ]
  },
  {
   "cell_type": "code",
   "execution_count": 124,
   "metadata": {},
   "outputs": [
    {
     "name": "stdout",
     "output_type": "stream",
     "text": [
      "       Events            Collection  PADS Brake Shoes (2)  \\\n",
      "0        ev-1     Company Warehouse                   0.0   \n",
      "1        ev-1  PADS Inventory (VMI)                   0.0   \n",
      "2        ev-1       Planning System                   0.0   \n",
      "3        ev-3     Company Warehouse                   0.0   \n",
      "4        ev-3  PADS Inventory (VMI)                   0.0   \n",
      "...       ...                   ...                   ...   \n",
      "7375  ev-3653  PADS Inventory (VMI)                   0.0   \n",
      "7376  ev-3653       Planning System                   0.0   \n",
      "7377  ev-3658     Company Warehouse                   0.0   \n",
      "7378  ev-3658  PADS Inventory (VMI)                   0.0   \n",
      "7379  ev-3658       Planning System                   0.0   \n",
      "\n",
      "      PADS Brake Cable (2)  PADS Tire  PADS Tube  Brake Shoes (4)  Tube  Bell  \\\n",
      "0                      0.0        0.0        0.0              0.0   0.0   0.0   \n",
      "1                      0.0        0.0        0.0              0.0   0.0   0.0   \n",
      "2                      0.0        0.0        0.0              0.0  -1.0   0.0   \n",
      "3                      0.0        0.0        0.0              0.0   0.0   0.0   \n",
      "4                      0.0        0.0        0.0              0.0   0.0   0.0   \n",
      "...                    ...        ...        ...              ...   ...   ...   \n",
      "7375                   0.0        0.0        0.0              0.0   0.0   0.0   \n",
      "7376                   0.0        0.0        0.0              0.0   0.0   0.0   \n",
      "7377                   0.0        0.0        0.0              0.0   0.0   0.0   \n",
      "7378                   0.0        0.0        0.0              0.0   0.0   0.0   \n",
      "7379                   0.0        0.0        0.0              0.0   0.0   0.0   \n",
      "\n",
      "      Brake Cable (2)  ...  Speedometer  Pedal  Front Light  Back Light  \\\n",
      "0                 0.0  ...          0.0    0.0          0.0         0.0   \n",
      "1                 0.0  ...          0.0    0.0          0.0         0.0   \n",
      "2                 0.0  ...          0.0    0.0         -2.0        -2.0   \n",
      "3                 0.0  ...          0.0    0.0          0.0         0.0   \n",
      "4                 0.0  ...          0.0    0.0          0.0         0.0   \n",
      "...               ...  ...          ...    ...          ...         ...   \n",
      "7375              0.0  ...          0.0    0.0          0.0         0.0   \n",
      "7376              0.0  ...          0.0    0.0          0.0         0.0   \n",
      "7377              0.0  ...          0.0    0.0          0.0         0.0   \n",
      "7378              0.0  ...          0.0    0.0          0.0         0.0   \n",
      "7379              0.0  ...          0.0    0.0          0.0         0.0   \n",
      "\n",
      "      Saddle  Tire  Handles (2)  Box                          Activity  \\\n",
      "0        0.0   0.0          0.0  0.0  Register incoming Customer Order   \n",
      "1        0.0   0.0          0.0  0.0  Register incoming Customer Order   \n",
      "2       -1.0   0.0          0.0 -1.0  Register incoming Customer Order   \n",
      "3        0.0   0.0          0.0  0.0  Register incoming Customer Order   \n",
      "4        0.0   0.0          0.0  0.0  Register incoming Customer Order   \n",
      "...      ...   ...          ...  ...                               ...   \n",
      "7375     0.0   0.0          0.0  0.0             Cancel Customer Order   \n",
      "7376     0.0   0.0          0.0  0.0             Cancel Customer Order   \n",
      "7377     0.0   0.0          0.0  0.0             Cancel Customer Order   \n",
      "7378     0.0   0.0          0.0  0.0             Cancel Customer Order   \n",
      "7379     0.0   0.0          0.0  0.0             Cancel Customer Order   \n",
      "\n",
      "                            Time  \n",
      "0     2019-10-12 12:35:54.290104  \n",
      "1     2019-10-12 12:35:54.290104  \n",
      "2     2019-10-12 12:35:54.290104  \n",
      "3     2019-10-12 12:48:12.573129  \n",
      "4     2019-10-12 12:48:12.573129  \n",
      "...                          ...  \n",
      "7375  2020-03-15 01:08:21.110056  \n",
      "7376  2020-03-15 01:08:21.110056  \n",
      "7377  2020-03-16 01:21:53.337194  \n",
      "7378  2020-03-16 01:21:53.337194  \n",
      "7379  2020-03-16 01:21:53.337194  \n",
      "\n",
      "[7380 rows x 21 columns]\n"
     ]
    }
   ],
   "source": [
    "qel = load_qel_from_file(file_path=r\"C:\\Uni\\7.Semester\\QRPM\\disqover\\src\\backend\\files\\Example_Inventory_Management_execution_log.sqlite\")\n",
    "qop = qel.get_quantity_operations()\n",
    "print(qop)"
   ]
  },
  {
   "cell_type": "code",
   "execution_count": 125,
   "metadata": {},
   "outputs": [
    {
     "name": "stdout",
     "output_type": "stream",
     "text": [
      "       Events            Collection  PADS Brake Shoes (2)  \\\n",
      "0        ev-1     Company Warehouse                   0.0   \n",
      "1        ev-1  PADS Inventory (VMI)                   0.0   \n",
      "2        ev-1       Planning System                   0.0   \n",
      "3        ev-3     Company Warehouse                   0.0   \n",
      "4        ev-3  PADS Inventory (VMI)                   0.0   \n",
      "...       ...                   ...                   ...   \n",
      "7375  ev-3653  PADS Inventory (VMI)                   0.0   \n",
      "7376  ev-3653       Planning System                   0.0   \n",
      "7377  ev-3658     Company Warehouse                   0.0   \n",
      "7378  ev-3658  PADS Inventory (VMI)                   0.0   \n",
      "7379  ev-3658       Planning System                   0.0   \n",
      "\n",
      "      PADS Brake Cable (2)  PADS Tire  PADS Tube  Brake Shoes (4)  Tube  Bell  \\\n",
      "0                      0.0        0.0        0.0              0.0   0.0   0.0   \n",
      "1                      0.0        0.0        0.0              0.0   0.0   0.0   \n",
      "2                      0.0        0.0        0.0              0.0  -1.0   0.0   \n",
      "3                      0.0        0.0        0.0              0.0   0.0   0.0   \n",
      "4                      0.0        0.0        0.0              0.0   0.0   0.0   \n",
      "...                    ...        ...        ...              ...   ...   ...   \n",
      "7375                   0.0        0.0        0.0              0.0   0.0   0.0   \n",
      "7376                   0.0        0.0        0.0              0.0   0.0   0.0   \n",
      "7377                   0.0        0.0        0.0              0.0   0.0   0.0   \n",
      "7378                   0.0        0.0        0.0              0.0   0.0   0.0   \n",
      "7379                   0.0        0.0        0.0              0.0   0.0   0.0   \n",
      "\n",
      "      Brake Cable (2)  ...  Speedometer  Pedal  Front Light  Back Light  \\\n",
      "0                 0.0  ...          0.0    0.0          0.0         0.0   \n",
      "1                 0.0  ...          0.0    0.0          0.0         0.0   \n",
      "2                 0.0  ...          0.0    0.0         -2.0        -2.0   \n",
      "3                 0.0  ...          0.0    0.0          0.0         0.0   \n",
      "4                 0.0  ...          0.0    0.0          0.0         0.0   \n",
      "...               ...  ...          ...    ...          ...         ...   \n",
      "7375              0.0  ...          0.0    0.0          0.0         0.0   \n",
      "7376              0.0  ...          0.0    0.0          0.0         0.0   \n",
      "7377              0.0  ...          0.0    0.0          0.0         0.0   \n",
      "7378              0.0  ...          0.0    0.0          0.0         0.0   \n",
      "7379              0.0  ...          0.0    0.0          0.0         0.0   \n",
      "\n",
      "      Saddle  Tire  Handles (2)  Box                          Activity  \\\n",
      "0        0.0   0.0          0.0  0.0  Register incoming Customer Order   \n",
      "1        0.0   0.0          0.0  0.0  Register incoming Customer Order   \n",
      "2       -1.0   0.0          0.0 -1.0  Register incoming Customer Order   \n",
      "3        0.0   0.0          0.0  0.0  Register incoming Customer Order   \n",
      "4        0.0   0.0          0.0  0.0  Register incoming Customer Order   \n",
      "...      ...   ...          ...  ...                               ...   \n",
      "7375     0.0   0.0          0.0  0.0             Cancel Customer Order   \n",
      "7376     0.0   0.0          0.0  0.0             Cancel Customer Order   \n",
      "7377     0.0   0.0          0.0  0.0             Cancel Customer Order   \n",
      "7378     0.0   0.0          0.0  0.0             Cancel Customer Order   \n",
      "7379     0.0   0.0          0.0  0.0             Cancel Customer Order   \n",
      "\n",
      "                           Time  \n",
      "0    2019-10-12 12:35:54.290104  \n",
      "1    2019-10-12 12:35:54.290104  \n",
      "2    2019-10-12 12:35:54.290104  \n",
      "3    2019-10-12 12:48:12.573129  \n",
      "4    2019-10-12 12:48:12.573129  \n",
      "...                         ...  \n",
      "7375 2020-03-15 01:08:21.110056  \n",
      "7376 2020-03-15 01:08:21.110056  \n",
      "7377 2020-03-16 01:21:53.337194  \n",
      "7378 2020-03-16 01:21:53.337194  \n",
      "7379 2020-03-16 01:21:53.337194  \n",
      "\n",
      "[7380 rows x 21 columns]\n"
     ]
    }
   ],
   "source": [
    "    # Ensure the \"Time\" column is in datetime format\n",
    "qop[\"Time\"] = pd.to_datetime(qop[\"Time\"])\n",
    "print(qop)"
   ]
  },
  {
   "cell_type": "code",
   "execution_count": 126,
   "metadata": {},
   "outputs": [
    {
     "name": "stdout",
     "output_type": "stream",
     "text": [
      "       Events            Collection  PADS Brake Shoes (2)  \\\n",
      "0        ev-1     Company Warehouse                   0.0   \n",
      "1        ev-1  PADS Inventory (VMI)                   0.0   \n",
      "2        ev-1       Planning System                   0.0   \n",
      "3        ev-3     Company Warehouse                   0.0   \n",
      "4        ev-3  PADS Inventory (VMI)                   0.0   \n",
      "...       ...                   ...                   ...   \n",
      "7375  ev-3653  PADS Inventory (VMI)                   0.0   \n",
      "7376  ev-3653       Planning System                   0.0   \n",
      "7377  ev-3658     Company Warehouse                   0.0   \n",
      "7378  ev-3658  PADS Inventory (VMI)                   0.0   \n",
      "7379  ev-3658       Planning System                   0.0   \n",
      "\n",
      "      PADS Brake Cable (2)  PADS Tire  PADS Tube  Brake Shoes (4)  Tube  Bell  \\\n",
      "0                      0.0        0.0        0.0              0.0   0.0   0.0   \n",
      "1                      0.0        0.0        0.0              0.0   0.0   0.0   \n",
      "2                      0.0        0.0        0.0              0.0  -1.0   0.0   \n",
      "3                      0.0        0.0        0.0              0.0   0.0   0.0   \n",
      "4                      0.0        0.0        0.0              0.0   0.0   0.0   \n",
      "...                    ...        ...        ...              ...   ...   ...   \n",
      "7375                   0.0        0.0        0.0              0.0   0.0   0.0   \n",
      "7376                   0.0        0.0        0.0              0.0   0.0   0.0   \n",
      "7377                   0.0        0.0        0.0              0.0   0.0   0.0   \n",
      "7378                   0.0        0.0        0.0              0.0   0.0   0.0   \n",
      "7379                   0.0        0.0        0.0              0.0   0.0   0.0   \n",
      "\n",
      "      Brake Cable (2)  ...  Pedal  Front Light  Back Light  Saddle  Tire  \\\n",
      "0                 0.0  ...    0.0          0.0         0.0     0.0   0.0   \n",
      "1                 0.0  ...    0.0          0.0         0.0     0.0   0.0   \n",
      "2                 0.0  ...    0.0         -2.0        -2.0    -1.0   0.0   \n",
      "3                 0.0  ...    0.0          0.0         0.0     0.0   0.0   \n",
      "4                 0.0  ...    0.0          0.0         0.0     0.0   0.0   \n",
      "...               ...  ...    ...          ...         ...     ...   ...   \n",
      "7375              0.0  ...    0.0          0.0         0.0     0.0   0.0   \n",
      "7376              0.0  ...    0.0          0.0         0.0     0.0   0.0   \n",
      "7377              0.0  ...    0.0          0.0         0.0     0.0   0.0   \n",
      "7378              0.0  ...    0.0          0.0         0.0     0.0   0.0   \n",
      "7379              0.0  ...    0.0          0.0         0.0     0.0   0.0   \n",
      "\n",
      "      Handles (2)  Box                          Activity  \\\n",
      "0             0.0  0.0  Register incoming Customer Order   \n",
      "1             0.0  0.0  Register incoming Customer Order   \n",
      "2             0.0 -1.0  Register incoming Customer Order   \n",
      "3             0.0  0.0  Register incoming Customer Order   \n",
      "4             0.0  0.0  Register incoming Customer Order   \n",
      "...           ...  ...                               ...   \n",
      "7375          0.0  0.0             Cancel Customer Order   \n",
      "7376          0.0  0.0             Cancel Customer Order   \n",
      "7377          0.0  0.0             Cancel Customer Order   \n",
      "7378          0.0  0.0             Cancel Customer Order   \n",
      "7379          0.0  0.0             Cancel Customer Order   \n",
      "\n",
      "                           Time year_month  \n",
      "0    2019-10-12 12:35:54.290104    2019-10  \n",
      "1    2019-10-12 12:35:54.290104    2019-10  \n",
      "2    2019-10-12 12:35:54.290104    2019-10  \n",
      "3    2019-10-12 12:48:12.573129    2019-10  \n",
      "4    2019-10-12 12:48:12.573129    2019-10  \n",
      "...                         ...        ...  \n",
      "7375 2020-03-15 01:08:21.110056    2020-03  \n",
      "7376 2020-03-15 01:08:21.110056    2020-03  \n",
      "7377 2020-03-16 01:21:53.337194    2020-03  \n",
      "7378 2020-03-16 01:21:53.337194    2020-03  \n",
      "7379 2020-03-16 01:21:53.337194    2020-03  \n",
      "\n",
      "[7380 rows x 22 columns]\n"
     ]
    }
   ],
   "source": [
    "qop[\"year_month\"] = qop[\"Time\"].dt.to_period(\"M\")\n",
    "print(qop)"
   ]
  },
  {
   "cell_type": "code",
   "execution_count": 127,
   "metadata": {},
   "outputs": [
    {
     "name": "stdout",
     "output_type": "stream",
     "text": [
      "       Events         Collection  PADS Brake Shoes (2)  PADS Brake Cable (2)  \\\n",
      "2        ev-1    Planning System                   0.0                   0.0   \n",
      "14      ev-18    Planning System                   0.0                   0.0   \n",
      "23      ev-27    Planning System                   0.0                   0.0   \n",
      "29      ev-35    Planning System                   0.0                   0.0   \n",
      "47      ev-68    Planning System                   0.0                   0.0   \n",
      "...       ...                ...                   ...                   ...   \n",
      "4662  ev-4322  Company Warehouse                   0.0                   0.0   \n",
      "4671  ev-4338  Company Warehouse                   0.0                   0.0   \n",
      "4692  ev-4441  Company Warehouse                   0.0                   0.0   \n",
      "4710  ev-4484  Company Warehouse                   0.0                   0.0   \n",
      "4713  ev-4493  Company Warehouse                   0.0                   0.0   \n",
      "\n",
      "      PADS Tire  PADS Tube  Brake Shoes (4)  Tube  Bell  Brake Cable (2)  ...  \\\n",
      "2           0.0        0.0              0.0  -1.0   0.0              0.0  ...   \n",
      "14          0.0        0.0              0.0  -1.0   0.0              0.0  ...   \n",
      "23          0.0        0.0              0.0  -1.0   0.0              0.0  ...   \n",
      "29          0.0        0.0              0.0  -2.0   0.0              0.0  ...   \n",
      "47          0.0        0.0              0.0  -1.0   0.0              0.0  ...   \n",
      "...         ...        ...              ...   ...   ...              ...  ...   \n",
      "4662        0.0        0.0              0.0  -1.0  -1.0              0.0  ...   \n",
      "4671        0.0        0.0              0.0  -1.0   0.0              0.0  ...   \n",
      "4692        0.0        0.0              0.0  -1.0  -1.0              0.0  ...   \n",
      "4710        0.0        0.0              0.0  -2.0   0.0              0.0  ...   \n",
      "4713        0.0        0.0              0.0  -2.0  -1.0              0.0  ...   \n",
      "\n",
      "      Pedal  Front Light  Back Light  Saddle  Tire  Handles (2)  Box  \\\n",
      "2       0.0         -2.0        -2.0    -1.0   0.0          0.0 -1.0   \n",
      "14      0.0          0.0         0.0     0.0   0.0          0.0 -1.0   \n",
      "23     -2.0         -1.0         0.0     0.0   0.0          0.0 -1.0   \n",
      "29      0.0         -1.0         0.0     0.0   0.0          0.0 -1.0   \n",
      "47      0.0          0.0        -1.0    -1.0   0.0          0.0 -1.0   \n",
      "...     ...          ...         ...     ...   ...          ...  ...   \n",
      "4662    0.0          0.0         0.0     0.0   0.0          0.0 -1.0   \n",
      "4671   -2.0          0.0        -1.0     0.0   0.0          0.0 -1.0   \n",
      "4692   -2.0         -1.0         0.0    -1.0   0.0         -2.0 -1.0   \n",
      "4710   -2.0         -1.0        -1.0    -1.0   0.0         -1.0 -1.0   \n",
      "4713   -2.0         -1.0        -1.0     0.0   0.0          0.0 -1.0   \n",
      "\n",
      "                                    Activity                       Time  \\\n",
      "2           Register incoming Customer Order 2019-10-12 12:35:54.290104   \n",
      "14          Register incoming Customer Order 2019-10-13 03:37:00.000000   \n",
      "23          Register incoming Customer Order 2019-10-13 13:11:21.280002   \n",
      "29          Register incoming Customer Order 2019-10-14 03:05:03.590864   \n",
      "47          Register incoming Customer Order 2019-10-16 09:50:48.833106   \n",
      "...                                      ...                        ...   \n",
      "4662  Pick and pack items for Customer Order 2020-04-12 13:52:36.526202   \n",
      "4671  Pick and pack items for Customer Order 2020-04-13 10:19:17.670955   \n",
      "4692  Pick and pack items for Customer Order 2020-04-16 02:55:40.768779   \n",
      "4710  Pick and pack items for Customer Order 2020-04-17 03:51:29.261499   \n",
      "4713  Pick and pack items for Customer Order 2020-04-17 11:58:02.917338   \n",
      "\n",
      "     year_month  \n",
      "2       2019-10  \n",
      "14      2019-10  \n",
      "23      2019-10  \n",
      "29      2019-10  \n",
      "47      2019-10  \n",
      "...         ...  \n",
      "4662    2020-04  \n",
      "4671    2020-04  \n",
      "4692    2020-04  \n",
      "4710    2020-04  \n",
      "4713    2020-04  \n",
      "\n",
      "[306 rows x 22 columns]\n"
     ]
    }
   ],
   "source": [
    "qop1 = qop.loc[qop[\"Tube\"] < 0]\n",
    "print(qop1)"
   ]
  },
  {
   "cell_type": "code",
   "execution_count": 128,
   "metadata": {},
   "outputs": [
    {
     "name": "stdout",
     "output_type": "stream",
     "text": [
      "      Tube year_month         Collection\n",
      "2     -1.0    2019-10    Planning System\n",
      "14    -1.0    2019-10    Planning System\n",
      "23    -1.0    2019-10    Planning System\n",
      "29    -2.0    2019-10    Planning System\n",
      "47    -1.0    2019-10    Planning System\n",
      "...    ...        ...                ...\n",
      "4662  -1.0    2020-04  Company Warehouse\n",
      "4671  -1.0    2020-04  Company Warehouse\n",
      "4692  -1.0    2020-04  Company Warehouse\n",
      "4710  -2.0    2020-04  Company Warehouse\n",
      "4713  -2.0    2020-04  Company Warehouse\n",
      "\n",
      "[306 rows x 3 columns]\n"
     ]
    }
   ],
   "source": [
    "qop2 = qop1[['Tube', \"year_month\",\"Collection\"]]\n",
    "print(qop2)"
   ]
  },
  {
   "cell_type": "code",
   "execution_count": 129,
   "metadata": {},
   "outputs": [
    {
     "name": "stdout",
     "output_type": "stream",
     "text": [
      "      Tube year_month         Collection\n",
      "2430  -1.0    2019-10  Company Warehouse\n",
      "2445  -1.0    2019-10  Company Warehouse\n",
      "2451  -1.0    2019-10  Company Warehouse\n",
      "2457  -2.0    2019-10  Company Warehouse\n",
      "2475  -1.0    2019-10  Company Warehouse\n",
      "...    ...        ...                ...\n",
      "4662  -1.0    2020-04  Company Warehouse\n",
      "4671  -1.0    2020-04  Company Warehouse\n",
      "4692  -1.0    2020-04  Company Warehouse\n",
      "4710  -2.0    2020-04  Company Warehouse\n",
      "4713  -2.0    2020-04  Company Warehouse\n",
      "\n",
      "[153 rows x 3 columns]\n"
     ]
    }
   ],
   "source": [
    "qop3 = qop2.loc[qop[\"Collection\"].isin(['Company Warehouse'])]\n",
    "print(qop3)"
   ]
  },
  {
   "cell_type": "code",
   "execution_count": 130,
   "metadata": {},
   "outputs": [
    {
     "name": "stdout",
     "output_type": "stream",
     "text": [
      "[('2019-10', np.float64(10.0)), ('2019-11', np.float64(22.0)), ('2019-12', np.float64(-8.0)), ('2020-01', np.float64(-9.0)), ('2020-02', np.float64(-11.0)), ('2020-03', np.float64(22.0)), ('2020-04', np.float64(-6.0))]\n"
     ]
    }
   ],
   "source": [
    "demand = []\n",
    "for period, group in qop.groupby(\"year_month\"):\n",
    "    monthly_demand = group['Tube'].sum()\n",
    "    demand.append((str(period), - monthly_demand))\n",
    "print(demand)"
   ]
  },
  {
   "cell_type": "code",
   "execution_count": 131,
   "metadata": {},
   "outputs": [],
   "source": [
    "import pandas as pd\n",
    "from qrpm.app.data_operations.log_overview import get_log_overview\n",
    "from qrpm.analysis.quantityState import (\n",
    "    determine_quantity_state_qel,\n",
    "    determine_quantity_state_cp,\n",
    ")\n",
    "from numpy import mean, absolute\n",
    "from qrpm.analysis.dataImport import load_qel_from_file\n",
    "qel = load_qel_from_file(file_path=r\"C:\\Uni\\7.Semester\\QRPM\\disqover\\src\\backend\\files\\Example_Inventory_Management_execution_log.sqlite\")\n"
   ]
  },
  {
   "cell_type": "code",
   "execution_count": 132,
   "metadata": {},
   "outputs": [
    {
     "name": "stdout",
     "output_type": "stream",
     "text": [
      "                          ocel_time\n",
      "ocel_id                            \n",
      "ev-2     2019-10-12 12:43:44.891246\n",
      "ev-37    2019-10-14 03:33:26.520378\n",
      "ev-54    2019-10-15 14:33:52.938551\n",
      "ev-93    2019-10-17 06:59:28.150017\n",
      "ev-163   2019-10-19 18:02:56.542362\n",
      "...                             ...\n",
      "ev-4313  2020-04-12 02:48:02.349542\n",
      "ev-4329  2020-04-12 18:26:13.659650\n",
      "ev-4342  2020-04-13 10:24:04.792542\n",
      "ev-4419  2020-04-15 02:39:19.837236\n",
      "ev-4492  2020-04-17 11:51:49.744839\n",
      "\n",
      "[94 rows x 1 columns]\n"
     ]
    }
   ],
   "source": [
    "event_Place_Replenishment_Order = qel.get_event_data_activity(\"Place Replenishment Order\")\n",
    "\n",
    "print(event_Place_Replenishment_Order)"
   ]
  },
  {
   "cell_type": "code",
   "execution_count": 133,
   "metadata": {},
   "outputs": [
    {
     "name": "stdout",
     "output_type": "stream",
     "text": [
      "                       ocel_time\n",
      "ocel_id                         \n",
      "ev-65    2019-10-16 10:10:10.100\n",
      "ev-126   2019-10-17 10:10:10.100\n",
      "ev-177   2019-10-19 10:10:10.100\n",
      "ev-278   2019-10-23 10:10:10.100\n",
      "ev-289   2019-10-24 10:10:10.100\n",
      "...                          ...\n",
      "ev-4409  2020-04-14 10:10:10.100\n",
      "ev-4436  2020-04-15 10:10:10.100\n",
      "ev-4469  2020-04-16 10:10:10.100\n",
      "ev-4512  2020-04-18 10:10:10.100\n",
      "ev-4525  2020-04-19 10:10:10.100\n",
      "\n",
      "[98 rows x 1 columns]\n"
     ]
    }
   ],
   "source": [
    "event_Put_Delivery_In_Stock = qel.get_event_data_activity(\"Place delivered Items into Inventory\")\n",
    "print (event_Put_Delivery_In_Stock)"
   ]
  },
  {
   "cell_type": "code",
   "execution_count": 134,
   "metadata": {},
   "outputs": [
    {
     "name": "stdout",
     "output_type": "stream",
     "text": [
      "     ocel_event_id ocel_object_id ocel_qualifier\n",
      "0             ev-1            o-6           None\n",
      "1             ev-1           o-10           None\n",
      "2             ev-2           o-11           None\n",
      "3             ev-2           o-21           None\n",
      "4             ev-3           o-13           None\n",
      "...            ...            ...            ...\n",
      "5562       ev-4109         o-3387           None\n",
      "5563       ev-4196         o-3402           None\n",
      "5564       ev-4280         o-3407           None\n",
      "5565       ev-4289         o-3483           None\n",
      "5566       ev-4409         o-3536           None\n",
      "\n",
      "[5567 rows x 3 columns]\n"
     ]
    }
   ],
   "source": [
    "event_object = qel.e2o\n",
    "print(event_object)"
   ]
  },
  {
   "cell_type": "code",
   "execution_count": 135,
   "metadata": {},
   "outputs": [
    {
     "name": "stdout",
     "output_type": "stream",
     "text": [
      "      ro_id                 placed_time\n",
      "0      o-11  2019-10-12 12:43:44.891246\n",
      "1      o-21  2019-10-12 12:43:44.891246\n",
      "2      o-46  2019-10-14 03:33:26.520378\n",
      "3      o-11  2019-10-14 03:33:26.520378\n",
      "4      o-13  2019-10-15 14:33:52.938551\n",
      "..      ...                         ...\n",
      "183  o-3407  2020-04-13 10:24:04.792542\n",
      "184    o-11  2020-04-15 02:39:19.837236\n",
      "185  o-3483  2020-04-15 02:39:19.837236\n",
      "186    o-11  2020-04-17 11:51:49.744839\n",
      "187  o-3536  2020-04-17 11:51:49.744839\n",
      "\n",
      "[188 rows x 2 columns]\n"
     ]
    }
   ],
   "source": [
    "\n",
    "rows = []\n",
    "for event in event_Place_Replenishment_Order.index:\n",
    "    temp_objects = qel.get_event_objects(event)\n",
    "    for o in temp_objects.values:\n",
    "        rows.append({\"ro_id\": o, \"placed_time\": event_Place_Replenishment_Order.loc[event, \"ocel_time\"]})\n",
    "PlacedRO = pd.DataFrame(rows)\n",
    "print(PlacedRO)"
   ]
  },
  {
   "cell_type": "code",
   "execution_count": 136,
   "metadata": {},
   "outputs": [
    {
     "name": "stdout",
     "output_type": "stream",
     "text": [
      "     ro_id           delivered_time\n",
      "0     o-21  2019-10-16 10:10:10.100\n",
      "1     o-46  2019-10-17 10:10:10.100\n",
      "2     o-59  2019-10-19 10:10:10.100\n",
      "3     o-89  2019-10-23 10:10:10.100\n",
      "4    o-146  2019-10-24 10:10:10.100\n",
      "..     ...                      ...\n",
      "89  o-3387  2020-04-03 10:10:10.100\n",
      "90  o-3402  2020-04-06 10:10:10.100\n",
      "91  o-3407  2020-04-10 10:10:10.100\n",
      "92  o-3483  2020-04-11 10:10:10.100\n",
      "93  o-3536  2020-04-14 10:10:10.100\n",
      "\n",
      "[94 rows x 2 columns]\n"
     ]
    }
   ],
   "source": [
    "rows = []\n",
    "for event in event_Put_Delivery_In_Stock.index:\n",
    "    temp_objects = qel.get_event_objects(event)\n",
    "    for o in temp_objects.values:\n",
    "        rows.append({\"ro_id\": o, \"delivered_time\": event_Put_Delivery_In_Stock.loc[event, \"ocel_time\"]})\n",
    "DeliveredRO = pd.DataFrame(rows)\n",
    "print(DeliveredRO)\n"
   ]
  },
  {
   "cell_type": "code",
   "execution_count": 137,
   "metadata": {},
   "outputs": [
    {
     "name": "stdout",
     "output_type": "stream",
     "text": [
      "     ro_id           delivered_time                 placed_time\n",
      "0     o-21  2019-10-16 10:10:10.100  2019-10-12 12:43:44.891246\n",
      "1     o-46  2019-10-17 10:10:10.100  2019-10-14 03:33:26.520378\n",
      "2     o-59  2019-10-19 10:10:10.100  2019-10-15 14:33:52.938551\n",
      "3     o-89  2019-10-23 10:10:10.100  2019-10-17 06:59:28.150017\n",
      "4    o-146  2019-10-24 10:10:10.100  2019-10-19 18:02:56.542362\n",
      "..     ...                      ...                         ...\n",
      "89  o-3387  2020-04-03 10:10:10.100  2020-04-12 02:48:02.349542\n",
      "90  o-3402  2020-04-06 10:10:10.100  2020-04-12 18:26:13.659650\n",
      "91  o-3407  2020-04-10 10:10:10.100  2020-04-13 10:24:04.792542\n",
      "92  o-3483  2020-04-11 10:10:10.100  2020-04-15 02:39:19.837236\n",
      "93  o-3536  2020-04-14 10:10:10.100  2020-04-17 11:51:49.744839\n",
      "\n",
      "[94 rows x 3 columns]\n"
     ]
    }
   ],
   "source": [
    "merged_df = pd.merge(\n",
    "    DeliveredRO,\n",
    "    PlacedRO,\n",
    "    on=\"ro_id\",\n",
    "    how=\"inner\",\n",
    "    suffixes=(\"_delivered\", \"_placed\")\n",
    ")\n",
    "\n",
    "# Print the result\n",
    "print(merged_df)"
   ]
  },
  {
   "cell_type": "code",
   "execution_count": 138,
   "metadata": {},
   "outputs": [
    {
     "name": "stdout",
     "output_type": "stream",
     "text": [
      "     ro_id          delivered_time                placed_time  \\\n",
      "0     o-21 2019-10-16 10:10:10.100 2019-10-12 12:43:44.891246   \n",
      "1     o-46 2019-10-17 10:10:10.100 2019-10-14 03:33:26.520378   \n",
      "2     o-59 2019-10-19 10:10:10.100 2019-10-15 14:33:52.938551   \n",
      "3     o-89 2019-10-23 10:10:10.100 2019-10-17 06:59:28.150017   \n",
      "4    o-146 2019-10-24 10:10:10.100 2019-10-19 18:02:56.542362   \n",
      "..     ...                     ...                        ...   \n",
      "89  o-3387 2020-04-03 10:10:10.100 2020-04-12 02:48:02.349542   \n",
      "90  o-3402 2020-04-06 10:10:10.100 2020-04-12 18:26:13.659650   \n",
      "91  o-3407 2020-04-10 10:10:10.100 2020-04-13 10:24:04.792542   \n",
      "92  o-3483 2020-04-11 10:10:10.100 2020-04-15 02:39:19.837236   \n",
      "93  o-3536 2020-04-14 10:10:10.100 2020-04-17 11:51:49.744839   \n",
      "\n",
      "                  lead_time  \n",
      "0    3 days 21:26:25.208754  \n",
      "1    3 days 06:36:43.579622  \n",
      "2    3 days 19:36:17.161449  \n",
      "3    6 days 03:10:41.949983  \n",
      "4    4 days 16:07:13.557638  \n",
      "..                      ...  \n",
      "89 -9 days +07:22:07.750458  \n",
      "90 -7 days +15:43:56.440350  \n",
      "91 -4 days +23:46:05.307458  \n",
      "92 -4 days +07:30:50.262764  \n",
      "93 -4 days +22:18:20.355161  \n",
      "\n",
      "[94 rows x 4 columns]\n"
     ]
    }
   ],
   "source": [
    "# Convert the time columns to datetime\n",
    "merged_df[\"delivered_time\"] = pd.to_datetime(merged_df[\"delivered_time\"])\n",
    "merged_df[\"placed_time\"] = pd.to_datetime(merged_df[\"placed_time\"])\n",
    "\n",
    "# Calculate lead_time\n",
    "merged_df[\"lead_time\"] = merged_df[\"delivered_time\"] - merged_df[\"placed_time\"]\n",
    "\n",
    "# Display the result\n",
    "print(merged_df)"
   ]
  }
 ],
 "metadata": {
  "kernelspec": {
   "display_name": ".venv",
   "language": "python",
   "name": "python3"
  },
  "language_info": {
   "codemirror_mode": {
    "name": "ipython",
    "version": 3
   },
   "file_extension": ".py",
   "mimetype": "text/x-python",
   "name": "python",
   "nbconvert_exporter": "python",
   "pygments_lexer": "ipython3",
   "version": "3.12.2"
  }
 },
 "nbformat": 4,
 "nbformat_minor": 2
}
